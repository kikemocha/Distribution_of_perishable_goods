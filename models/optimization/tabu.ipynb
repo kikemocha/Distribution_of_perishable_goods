{
 "cells": [
  {
   "cell_type": "code",
   "execution_count": 16,
   "metadata": {},
   "outputs": [],
   "source": [
    "import pandas as pd\n",
    "import numpy as np\n",
    "import random\n",
    "import matplotlib.pyplot as plt"
   ]
  },
  {
   "cell_type": "code",
   "execution_count": 17,
   "metadata": {},
   "outputs": [],
   "source": [
    "df_location = pd.read_excel('../../python/df_location.xlsx')\n",
    "df_distance = pd.read_excel('../../python/df_distance_km.xlsx')\n",
    "df_vehicle = pd.read_excel('../../python/df_vehicle.xlsx')\n",
    "df_orders = pd.read_excel('../../python/df_orders.xlsx')"
   ]
  },
  {
   "cell_type": "code",
   "execution_count": 18,
   "metadata": {},
   "outputs": [],
   "source": [
    "clients_names = df_location['cliente'].to_list()\n",
    "clients_coords = df_location[['Latitud','Longitud']].to_numpy()\n",
    "\n",
    "clients = {name: coord for name, coord in zip(clients_names, clients_coords)}"
   ]
  },
  {
   "cell_type": "code",
   "execution_count": 19,
   "metadata": {},
   "outputs": [],
   "source": [
    "distances_matrix = df_distance.to_numpy()"
   ]
  },
  {
   "cell_type": "code",
   "execution_count": 20,
   "metadata": {},
   "outputs": [],
   "source": [
    "def calculate_route_distance(route, distance_matrix, cost_per_unit):\n",
    "    distance = 0\n",
    "    for i in range(len(route) - 1):\n",
    "        dist = distance_matrix[route[i]][route[i + 1]]\n",
    "        if dist == 0:\n",
    "            return float('inf')\n",
    "        distance += dist * cost_per_unit\n",
    "    return distance"
   ]
  },
  {
   "cell_type": "code",
   "execution_count": 21,
   "metadata": {},
   "outputs": [],
   "source": [
    "def is_valid_route(route, demandas, capacity):\n",
    "    total_demand = sum(demandas[cliente] for cliente in route)\n",
    "    return total_demand <= capacity"
   ]
  },
  {
   "cell_type": "code",
   "execution_count": 22,
   "metadata": {},
   "outputs": [],
   "source": [
    "def generate_valid_initial_routes(distance_matrix, num_vehiculos, almacen, demandas, capacidades):\n",
    "    clientes = [cliente for cliente in range(len(distance_matrix)) if cliente != almacen]\n",
    "    valid_routes_found = False\n",
    "    while not valid_routes_found:\n",
    "        random.shuffle(clientes)\n",
    "        routes = [[almacen] for _ in range(num_vehiculos)]\n",
    "        for cliente in clientes:\n",
    "            for route in routes:\n",
    "                if sum(demandas[r] for r in route) + demandas[cliente] <= capacidades[routes.index(route)]:\n",
    "                    route.append(cliente)\n",
    "                    break\n",
    "        for route in routes:\n",
    "            route.append(almacen)\n",
    "        if all(calculate_route_distance(route, distance_matrix, 1) != float('inf') for route in routes):\n",
    "            valid_routes_found = True\n",
    "    return routes\n"
   ]
  },
  {
   "cell_type": "code",
   "execution_count": 23,
   "metadata": {},
   "outputs": [],
   "source": [
    "def calculate_total_distance(routes, distance_matrix, costes):\n",
    "    total_distance = 0\n",
    "    for route, cost in zip(routes, costes):\n",
    "        total_distance += calculate_route_distance(route, distance_matrix, cost)\n",
    "    return total_distance"
   ]
  },
  {
   "cell_type": "code",
   "execution_count": 24,
   "metadata": {},
   "outputs": [],
   "source": [
    "def generate_vecinos_multiple(routes, almacen, demandas, capacidades):\n",
    "    neighbors = []\n",
    "    for i in range(len(routes)):\n",
    "        for j in range(len(routes)):\n",
    "            if i != j:\n",
    "                for k in range(1, len(routes[i]) - 1):\n",
    "                    for l in range(1, len(routes[j]) - 1):\n",
    "                        neighbor = [route[:] for route in routes]\n",
    "                        neighbor[i][k], neighbor[j][l] = neighbor[j][l], neighbor[i][k]\n",
    "                        if is_valid_route(neighbor[i], demandas, capacidades[i]) and is_valid_route(neighbor[j], demandas, capacidades[j]):\n",
    "                            neighbors.append(neighbor)\n",
    "    return neighbors"
   ]
  },
  {
   "cell_type": "code",
   "execution_count": 25,
   "metadata": {},
   "outputs": [],
   "source": [
    "def tabu_search_multiple_tsp(distance_matrix, initial_routes, max_iterations, tabu_size, almacen, costes, demandas, capacidades, max_no_improve=20):\n",
    "    current_routes = initial_routes\n",
    "    best_routes = current_routes\n",
    "    best_distance = calculate_total_distance(current_routes, distance_matrix, costes)\n",
    "    tabu_list = []\n",
    "    historial = []\n",
    "    no_improve_counter = 0\n",
    "\n",
    "    for iteration in range(max_iterations):\n",
    "        neighbors = generate_vecinos_multiple(current_routes, almacen, demandas, capacidades)\n",
    "        evaluated_neighbors = [(neighbor, calculate_total_distance(neighbor, distance_matrix, costes)) \n",
    "                               for neighbor in neighbors if neighbor not in tabu_list]\n",
    "\n",
    "        if not evaluated_neighbors:\n",
    "            break  # Si no hay vecinos válidos, detener el algoritmo\n",
    "\n",
    "        best_neighbor, best_neighbor_distance = min(evaluated_neighbors, key=lambda x: x[1])\n",
    "        \n",
    "        current_routes = best_neighbor\n",
    "        if best_neighbor_distance < best_distance:\n",
    "            best_routes = best_neighbor\n",
    "            best_distance = best_neighbor_distance\n",
    "            no_improve_counter = 0\n",
    "        else:\n",
    "            no_improve_counter += 1 \n",
    "\n",
    "        # Actualizar lista Tabú\n",
    "        tabu_list.append(best_neighbor)\n",
    "        if len(tabu_list) > tabu_size:\n",
    "            tabu_list.pop(0)\n",
    "\n",
    "        # Guardar historial\n",
    "        historial.append((best_neighbor, best_neighbor_distance))\n",
    "\n",
    "        # Verificar criterio de parada adicional\n",
    "        if no_improve_counter >= max_no_improve:\n",
    "            print(f\"Parada anticipada: {no_improve_counter} iteraciones sin mejora.\")\n",
    "            break\n",
    "\n",
    "    return best_routes, best_distance, historial\n",
    "\n"
   ]
  },
  {
   "cell_type": "code",
   "execution_count": 26,
   "metadata": {},
   "outputs": [],
   "source": [
    "def convert_routes_to_city_names(routes, city_names):\n",
    "    return [[city_names[city] for city in route] for route in routes]"
   ]
  },
  {
   "cell_type": "code",
   "execution_count": 27,
   "metadata": {},
   "outputs": [],
   "source": [
    "almacen = len(clients_names) - 1\n",
    "num_vehicles = 5\n",
    "costes = df_vehicle['costo_km'].to_list()\n",
    "capacidades = df_vehicle['capacidad_kg'].to_list()\n",
    "demandas_dict = dict(zip(df_orders[\"cliente\"], df_orders[\"order_demand\"]))\n",
    "demandas = [demandas_dict.get(client, 0) for client in clients_names]\n",
    "\n",
    "initial_routes = generate_valid_initial_routes(distances_matrix, num_vehicles, almacen, demandas, capacidades)\n"
   ]
  },
  {
   "cell_type": "code",
   "execution_count": 28,
   "metadata": {},
   "outputs": [
    {
     "name": "stdout",
     "output_type": "stream",
     "text": [
      "Parada anticipada: 20 iteraciones sin mejora.\n"
     ]
    }
   ],
   "source": [
    "# Parámetros iniciales\n",
    "max_iterations = 100\n",
    "tabu_size = 10\n",
    "max_no_improve = 20  # Número máximo de iteraciones sin mejora\n",
    "\n",
    "# Ejecutar Tabu Search\n",
    "mejor_solucion, costo_mejor_solucion, historial = tabu_search_multiple_tsp(\n",
    "    distances_matrix, initial_routes, max_iterations, tabu_size, almacen, costes, demandas, capacidades, max_no_improve=max_no_improve\n",
    ")\n"
   ]
  },
  {
   "cell_type": "code",
   "execution_count": 29,
   "metadata": {},
   "outputs": [],
   "source": [
    "# Guardar el modelo\n",
    "modelo_tabu = {\n",
    "    \"mejor_solucion\": mejor_solucion,\n",
    "    \"costo_mejor_solucion\": costo_mejor_solucion,\n",
    "    \"parametros\": {\n",
    "        \"tamano_tabu\": tabu_size,\n",
    "        \"max_iteraciones\": max_iterations,\n",
    "        \"criterio_parada\": f\"Sin mejora en {max_no_improve} iteraciones\"\n",
    "    },\n",
    "    \"historial\": historial\n",
    "}"
   ]
  },
  {
   "cell_type": "code",
   "execution_count": 30,
   "metadata": {},
   "outputs": [
    {
     "name": "stdout",
     "output_type": "stream",
     "text": [
      "{'mejor_solucion': [[20, 10, 13, 20], [20, 15, 2, 18, 19, 20], [20, 0, 9, 11, 16, 4, 20], [20, 17, 14, 7, 20], [20, 8, 3, 6, 1, 12, 5, 20]], 'costo_mejor_solucion': np.float64(32.440489), 'parametros': {'tamano_tabu': 10, 'max_iteraciones': 100, 'criterio_parada': 'Sin mejora en 20 iteraciones'}, 'historial': [([[20, 10, 0, 20], [20, 3, 17, 18, 14, 20], [20, 7, 9, 11, 16, 4, 20], [20, 19, 2, 13, 20], [20, 8, 15, 6, 1, 12, 5, 20]], np.float64(39.383562)), ([[20, 10, 0, 20], [20, 7, 17, 18, 14, 20], [20, 3, 9, 11, 16, 4, 20], [20, 19, 2, 13, 20], [20, 8, 15, 6, 1, 12, 5, 20]], np.float64(36.36910399999999)), ([[20, 10, 8, 20], [20, 7, 17, 18, 14, 20], [20, 3, 9, 11, 16, 4, 20], [20, 19, 2, 13, 20], [20, 0, 15, 6, 1, 12, 5, 20]], np.float64(35.902924)), ([[20, 10, 13, 20], [20, 7, 17, 18, 14, 20], [20, 3, 9, 11, 16, 4, 20], [20, 19, 2, 8, 20], [20, 0, 15, 6, 1, 12, 5, 20]], np.float64(35.203245)), ([[20, 10, 13, 20], [20, 7, 17, 18, 14, 20], [20, 0, 9, 11, 16, 4, 20], [20, 19, 2, 8, 20], [20, 3, 15, 6, 1, 12, 5, 20]], np.float64(35.073377)), ([[20, 10, 13, 20], [20, 7, 17, 18, 16, 20], [20, 0, 9, 11, 14, 4, 20], [20, 19, 2, 8, 20], [20, 3, 15, 6, 1, 12, 5, 20]], np.float64(35.186351)), ([[20, 10, 13, 20], [20, 7, 14, 18, 16, 20], [20, 0, 9, 11, 17, 4, 20], [20, 19, 2, 8, 20], [20, 3, 15, 6, 1, 12, 5, 20]], np.float64(34.777991)), ([[20, 10, 13, 20], [20, 7, 14, 18, 17, 20], [20, 0, 9, 11, 16, 4, 20], [20, 19, 2, 8, 20], [20, 3, 15, 6, 1, 12, 5, 20]], np.float64(34.325735)), ([[20, 10, 13, 20], [20, 7, 14, 18, 19, 20], [20, 0, 9, 11, 16, 4, 20], [20, 17, 2, 8, 20], [20, 3, 15, 6, 1, 12, 5, 20]], np.float64(34.409779)), ([[20, 10, 13, 20], [20, 7, 2, 18, 19, 20], [20, 0, 9, 11, 16, 4, 20], [20, 17, 14, 8, 20], [20, 3, 15, 6, 1, 12, 5, 20]], np.float64(33.564188)), ([[20, 10, 13, 20], [20, 8, 2, 18, 19, 20], [20, 0, 9, 11, 16, 4, 20], [20, 17, 14, 7, 20], [20, 3, 15, 6, 1, 12, 5, 20]], np.float64(32.499265)), ([[20, 10, 13, 20], [20, 8, 2, 18, 19, 20], [20, 3, 9, 11, 16, 4, 20], [20, 17, 14, 7, 20], [20, 0, 15, 6, 1, 12, 5, 20]], np.float64(32.629132999999996)), ([[20, 10, 13, 20], [20, 8, 2, 18, 19, 20], [20, 5, 9, 11, 16, 4, 20], [20, 17, 14, 7, 20], [20, 0, 15, 6, 1, 12, 3, 20]], np.float64(32.760569000000004)), ([[20, 10, 13, 20], [20, 8, 2, 18, 19, 20], [20, 0, 9, 11, 16, 4, 20], [20, 17, 14, 7, 20], [20, 5, 15, 6, 1, 12, 3, 20]], np.float64(32.639425)), ([[20, 10, 13, 20], [20, 8, 2, 18, 19, 20], [20, 3, 9, 11, 16, 4, 20], [20, 17, 14, 7, 20], [20, 5, 15, 6, 1, 12, 0, 20]], np.float64(32.919852999999996)), ([[20, 10, 13, 20], [20, 8, 2, 18, 19, 20], [20, 5, 9, 11, 16, 4, 20], [20, 17, 14, 7, 20], [20, 3, 15, 6, 1, 12, 0, 20]], np.float64(32.911129)), ([[20, 5, 13, 20], [20, 8, 2, 18, 19, 20], [20, 10, 9, 11, 16, 4, 20], [20, 17, 14, 7, 20], [20, 3, 15, 6, 1, 12, 0, 20]], np.float64(33.360529)), ([[20, 0, 13, 20], [20, 8, 2, 18, 19, 20], [20, 10, 9, 11, 16, 4, 20], [20, 17, 14, 7, 20], [20, 3, 15, 6, 1, 12, 5, 20]], np.float64(32.912425)), ([[20, 3, 13, 20], [20, 8, 2, 18, 19, 20], [20, 10, 9, 11, 16, 4, 20], [20, 17, 14, 7, 20], [20, 0, 15, 6, 1, 12, 5, 20]], np.float64(33.159773)), ([[20, 8, 13, 20], [20, 3, 2, 18, 19, 20], [20, 10, 9, 11, 16, 4, 20], [20, 17, 14, 7, 20], [20, 0, 15, 6, 1, 12, 5, 20]], np.float64(33.163891)), ([[20, 8, 13, 20], [20, 15, 2, 18, 19, 20], [20, 10, 9, 11, 16, 4, 20], [20, 17, 14, 7, 20], [20, 0, 3, 6, 1, 12, 5, 20]], np.float64(32.868093)), ([[20, 10, 13, 20], [20, 15, 2, 18, 19, 20], [20, 8, 9, 11, 16, 4, 20], [20, 17, 14, 7, 20], [20, 0, 3, 6, 1, 12, 5, 20]], np.float64(32.707273)), ([[20, 10, 13, 20], [20, 15, 2, 18, 19, 20], [20, 0, 9, 11, 16, 4, 20], [20, 17, 14, 7, 20], [20, 8, 3, 6, 1, 12, 5, 20]], np.float64(32.440489)), ([[20, 10, 13, 20], [20, 15, 2, 18, 19, 20], [20, 3, 9, 11, 16, 4, 20], [20, 17, 14, 7, 20], [20, 8, 0, 6, 1, 12, 5, 20]], np.float64(32.751892999999995)), ([[20, 10, 13, 20], [20, 15, 2, 18, 19, 20], [20, 8, 9, 11, 16, 4, 20], [20, 17, 14, 7, 20], [20, 3, 0, 6, 1, 12, 5, 20]], np.float64(32.744681)), ([[20, 10, 13, 20], [20, 15, 2, 18, 19, 20], [20, 5, 9, 11, 16, 4, 20], [20, 17, 14, 7, 20], [20, 3, 0, 6, 1, 12, 8, 20]], np.float64(32.856993)), ([[20, 10, 13, 20], [20, 15, 2, 18, 19, 20], [20, 0, 9, 11, 16, 4, 20], [20, 17, 14, 7, 20], [20, 3, 5, 6, 1, 12, 8, 20]], np.float64(32.765961000000004)), ([[20, 10, 13, 20], [20, 8, 2, 18, 19, 20], [20, 0, 9, 11, 16, 4, 20], [20, 17, 14, 7, 20], [20, 3, 5, 6, 1, 12, 15, 20]], np.float64(32.815745)), ([[20, 10, 13, 20], [20, 3, 2, 18, 19, 20], [20, 0, 9, 11, 16, 4, 20], [20, 17, 14, 7, 20], [20, 8, 5, 6, 1, 12, 15, 20]], np.float64(32.845087)), ([[20, 10, 13, 20], [20, 15, 2, 18, 19, 20], [20, 0, 9, 11, 16, 4, 20], [20, 17, 14, 7, 20], [20, 8, 5, 6, 1, 12, 3, 20]], np.float64(32.440489)), ([[20, 10, 13, 20], [20, 12, 2, 18, 19, 20], [20, 0, 9, 11, 16, 4, 20], [20, 17, 14, 7, 20], [20, 8, 5, 6, 1, 15, 3, 20]], np.float64(32.621691)), ([[20, 10, 13, 20], [20, 12, 2, 18, 19, 20], [20, 3, 9, 11, 16, 4, 20], [20, 17, 14, 7, 20], [20, 8, 5, 6, 1, 15, 0, 20]], np.float64(32.751559)), ([[20, 10, 13, 20], [20, 15, 2, 18, 19, 20], [20, 3, 9, 11, 16, 4, 20], [20, 17, 14, 7, 20], [20, 8, 5, 6, 1, 12, 0, 20]], np.float64(32.720917)), ([[20, 10, 13, 20], [20, 15, 2, 18, 19, 20], [20, 5, 9, 11, 16, 4, 20], [20, 17, 14, 7, 20], [20, 8, 3, 6, 1, 12, 0, 20]], np.float64(32.852353)), ([[20, 10, 13, 20], [20, 15, 2, 18, 19, 20], [20, 0, 9, 11, 16, 4, 20], [20, 17, 14, 7, 20], [20, 8, 3, 6, 1, 12, 5, 20]], np.float64(32.440489)), ([[20, 10, 13, 20], [20, 15, 2, 18, 19, 20], [20, 8, 9, 11, 16, 4, 20], [20, 17, 14, 7, 20], [20, 0, 3, 6, 1, 12, 5, 20]], np.float64(32.707273)), ([[20, 10, 13, 20], [20, 15, 2, 18, 19, 20], [20, 5, 9, 11, 16, 4, 20], [20, 17, 14, 7, 20], [20, 0, 3, 6, 1, 12, 8, 20]], np.float64(32.819585000000004)), ([[20, 10, 13, 20], [20, 15, 2, 18, 19, 20], [20, 0, 9, 11, 16, 4, 20], [20, 17, 14, 7, 20], [20, 5, 3, 6, 1, 12, 8, 20]], np.float64(32.452713)), ([[20, 10, 13, 20], [20, 8, 2, 18, 19, 20], [20, 0, 9, 11, 16, 4, 20], [20, 17, 14, 7, 20], [20, 5, 3, 6, 1, 12, 15, 20]], np.float64(32.502497000000005)), ([[20, 10, 13, 20], [20, 8, 2, 18, 19, 20], [20, 3, 9, 11, 16, 4, 20], [20, 17, 14, 7, 20], [20, 5, 0, 6, 1, 12, 15, 20]], np.float64(32.850252999999995)), ([[20, 10, 13, 20], [20, 15, 2, 18, 19, 20], [20, 3, 9, 11, 16, 4, 20], [20, 17, 14, 7, 20], [20, 5, 0, 6, 1, 12, 8, 20]], np.float64(32.800469)), ([[20, 10, 13, 20], [20, 15, 2, 18, 19, 20], [20, 8, 9, 11, 16, 4, 20], [20, 17, 14, 7, 20], [20, 5, 0, 6, 1, 12, 3, 20]], np.float64(32.819593)), ([[20, 10, 13, 20], [20, 15, 2, 18, 19, 20], [20, 5, 9, 11, 16, 4, 20], [20, 17, 14, 7, 20], [20, 8, 0, 6, 1, 12, 3, 20]], np.float64(32.883329))]}\n"
     ]
    }
   ],
   "source": [
    "print(modelo_tabu)"
   ]
  }
 ],
 "metadata": {
  "kernelspec": {
   "display_name": "Python 3",
   "language": "python",
   "name": "python3"
  },
  "language_info": {
   "codemirror_mode": {
    "name": "ipython",
    "version": 3
   },
   "file_extension": ".py",
   "mimetype": "text/x-python",
   "name": "python",
   "nbconvert_exporter": "python",
   "pygments_lexer": "ipython3",
   "version": "3.12.6"
  }
 },
 "nbformat": 4,
 "nbformat_minor": 2
}

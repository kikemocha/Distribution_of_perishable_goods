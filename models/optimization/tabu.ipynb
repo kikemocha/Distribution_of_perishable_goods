{
 "cells": [
  {
   "cell_type": "code",
   "execution_count": 1,
   "metadata": {},
   "outputs": [],
   "source": [
    "import pandas as pd\n",
    "import numpy as np\n",
    "import random\n",
    "import matplotlib.pyplot as plt\n",
    "import pickle"
   ]
  },
  {
   "cell_type": "code",
   "execution_count": 2,
   "metadata": {},
   "outputs": [],
   "source": [
    "df_location = pd.read_excel('../../python/df_location.xlsx')\n",
    "df_distance = pd.read_excel('../../python/df_distance_km.xlsx')\n",
    "df_vehicle = pd.read_excel('../../python/df_vehicle.xlsx')\n",
    "df_orders = pd.read_excel('../../python/df_orders.xlsx')"
   ]
  },
  {
   "cell_type": "code",
   "execution_count": 3,
   "metadata": {},
   "outputs": [],
   "source": [
    "clients_names = df_location['cliente'].to_list()\n",
    "clients_coords = df_location[['Latitud','Longitud']].to_numpy()\n",
    "\n",
    "clients = {name: coord for name, coord in zip(clients_names, clients_coords)}"
   ]
  },
  {
   "cell_type": "code",
   "execution_count": 4,
   "metadata": {},
   "outputs": [],
   "source": [
    "distances_matrix = df_distance.to_numpy()"
   ]
  },
  {
   "cell_type": "code",
   "execution_count": 5,
   "metadata": {},
   "outputs": [],
   "source": [
    "def calculate_route_distance(route, distance_matrix, cost_per_unit):\n",
    "    distance = 0\n",
    "    for i in range(len(route) - 1):\n",
    "        dist = distance_matrix[route[i]][route[i + 1]]\n",
    "        if dist == 0:\n",
    "            return float('inf')\n",
    "        distance += dist * cost_per_unit\n",
    "    return distance"
   ]
  },
  {
   "cell_type": "code",
   "execution_count": 6,
   "metadata": {},
   "outputs": [],
   "source": [
    "def is_valid_route(route, demandas, capacity):\n",
    "    total_demand = sum(demandas[cliente] for cliente in route)\n",
    "    return total_demand <= capacity"
   ]
  },
  {
   "cell_type": "code",
   "execution_count": 7,
   "metadata": {},
   "outputs": [],
   "source": [
    "def generate_valid_initial_routes(distance_matrix, num_vehiculos, almacen, demandas, capacidades):\n",
    "    clientes = [cliente for cliente in range(len(distance_matrix)) if cliente != almacen]\n",
    "    valid_routes_found = False\n",
    "    while not valid_routes_found:\n",
    "        random.shuffle(clientes)\n",
    "        routes = [[almacen] for _ in range(num_vehiculos)]\n",
    "        for cliente in clientes:\n",
    "            for route in routes:\n",
    "                if sum(demandas[r] for r in route) + demandas[cliente] <= capacidades[routes.index(route)]:\n",
    "                    route.append(cliente)\n",
    "                    break\n",
    "        for route in routes:\n",
    "            route.append(almacen)\n",
    "        if all(calculate_route_distance(route, distance_matrix, 1) != float('inf') for route in routes):\n",
    "            valid_routes_found = True\n",
    "    return routes\n"
   ]
  },
  {
   "cell_type": "code",
   "execution_count": 8,
   "metadata": {},
   "outputs": [],
   "source": [
    "def calculate_total_distance(routes, distance_matrix, costes):\n",
    "    total_distance = 0\n",
    "    for route, cost in zip(routes, costes):\n",
    "        total_distance += calculate_route_distance(route, distance_matrix, cost)\n",
    "    return total_distance"
   ]
  },
  {
   "cell_type": "code",
   "execution_count": 9,
   "metadata": {},
   "outputs": [],
   "source": [
    "def generate_vecinos_multiple(routes, almacen, demandas, capacidades):\n",
    "    neighbors = []\n",
    "    for i in range(len(routes)):\n",
    "        for j in range(len(routes)):\n",
    "            if i != j:\n",
    "                for k in range(1, len(routes[i]) - 1):\n",
    "                    for l in range(1, len(routes[j]) - 1):\n",
    "                        neighbor = [route[:] for route in routes]\n",
    "                        neighbor[i][k], neighbor[j][l] = neighbor[j][l], neighbor[i][k]\n",
    "                        if is_valid_route(neighbor[i], demandas, capacidades[i]) and is_valid_route(neighbor[j], demandas, capacidades[j]):\n",
    "                            neighbors.append(neighbor)\n",
    "    return neighbors"
   ]
  },
  {
   "cell_type": "code",
   "execution_count": 10,
   "metadata": {},
   "outputs": [],
   "source": [
    "def tabu_search_multiple_tsp(distance_matrix, initial_routes, max_iterations, tabu_size, almacen, costes, demandas, capacidades, max_no_improve=20):\n",
    "    current_routes = initial_routes\n",
    "    best_routes = current_routes\n",
    "    best_distance = calculate_total_distance(current_routes, distance_matrix, costes)\n",
    "    tabu_list = []\n",
    "    historial = []\n",
    "    no_improve_counter = 0\n",
    "\n",
    "    for iteration in range(max_iterations):\n",
    "        neighbors = generate_vecinos_multiple(current_routes, almacen, demandas, capacidades)\n",
    "        evaluated_neighbors = [(neighbor, calculate_total_distance(neighbor, distance_matrix, costes)) \n",
    "                               for neighbor in neighbors if neighbor not in tabu_list]\n",
    "\n",
    "        if not evaluated_neighbors:\n",
    "            break  # Si no hay vecinos válidos, detener el algoritmo\n",
    "\n",
    "        best_neighbor, best_neighbor_distance = min(evaluated_neighbors, key=lambda x: x[1])\n",
    "        \n",
    "        current_routes = best_neighbor\n",
    "        if best_neighbor_distance < best_distance:\n",
    "            best_routes = best_neighbor\n",
    "            best_distance = best_neighbor_distance\n",
    "            no_improve_counter = 0\n",
    "        else:\n",
    "            no_improve_counter += 1 \n",
    "\n",
    "        # Actualizar lista Tabú\n",
    "        tabu_list.append(best_neighbor)\n",
    "        if len(tabu_list) > tabu_size:\n",
    "            tabu_list.pop(0)\n",
    "\n",
    "        # Guardar historial\n",
    "        historial.append((best_neighbor, best_neighbor_distance))\n",
    "\n",
    "        # Verificar criterio de parada adicional\n",
    "        if no_improve_counter >= max_no_improve:\n",
    "            print(f\"Parada anticipada: {no_improve_counter} iteraciones sin mejora.\")\n",
    "            break\n",
    "\n",
    "    return best_routes, best_distance, historial\n",
    "\n"
   ]
  },
  {
   "cell_type": "code",
   "execution_count": 11,
   "metadata": {},
   "outputs": [],
   "source": [
    "almacen = len(clients_names) - 1\n",
    "num_vehicle = 5\n",
    "costes = df_vehicle['costo_km'].to_list()\n",
    "capacidades = df_vehicle['capacidad_kg'].to_list()\n",
    "demandas_dict = dict(zip(df_orders[\"cliente\"], df_orders[\"order_demand\"]))\n",
    "demandas = [demandas_dict.get(client, 0) for client in clients_names]\n",
    "\n",
    "initial_routes = generate_valid_initial_routes(distances_matrix, num_vehicle, almacen, demandas, capacidades)\n"
   ]
  },
  {
   "cell_type": "code",
   "execution_count": 12,
   "metadata": {},
   "outputs": [
    {
     "name": "stdout",
     "output_type": "stream",
     "text": [
      "Parada anticipada: 20 iteraciones sin mejora.\n"
     ]
    }
   ],
   "source": [
    "# Parámetros iniciales\n",
    "max_iterations = 100\n",
    "tabu_size = 10\n",
    "max_no_improve = 20  # Número máximo de iteraciones sin mejora\n",
    "\n",
    "# Ejecutar Tabu Search\n",
    "mejor_solucion, costo_mejor_solucion, historial = tabu_search_multiple_tsp(\n",
    "    distances_matrix, initial_routes, max_iterations, tabu_size, almacen, costes, demandas, capacidades, max_no_improve=max_no_improve\n",
    ")\n"
   ]
  },
  {
   "cell_type": "code",
   "execution_count": 13,
   "metadata": {},
   "outputs": [],
   "source": [
    "def convert_routes_to_coordinates(routes, clients):\n",
    "    routes_with_coordinates = []\n",
    "    for route in routes:\n",
    "        route_coords = [tuple(clients[clients_names[client]]) for client in route]\n",
    "        routes_with_coordinates.append(route_coords)\n",
    "    return routes_with_coordinates\n",
    "\n",
    "mejor_solucion_coords = convert_routes_to_coordinates(mejor_solucion, clients)"
   ]
  },
  {
   "cell_type": "code",
   "execution_count": 14,
   "metadata": {},
   "outputs": [],
   "source": [
    "# Guardar el modelo\n",
    "modelo_tabu = {\n",
    "    \"mejor_solucion\": mejor_solucion_coords,\n",
    "    \"costo_mejor_solucion\": costo_mejor_solucion,\n",
    "    \"parametros\": {\n",
    "        \"tamano_tabu\": tabu_size,\n",
    "        \"max_iteraciones\": max_iterations,\n",
    "        \"criterio_parada\": f\"Sin mejora en {max_no_improve} iteraciones\"\n",
    "    },\n",
    "    \"historial\": historial\n",
    "}"
   ]
  },
  {
   "cell_type": "code",
   "execution_count": 15,
   "metadata": {},
   "outputs": [
    {
     "name": "stdout",
     "output_type": "stream",
     "text": [
      "{'mejor_solucion': [[(np.float64(40.3885963), np.float64(-3.7270384)), (np.float64(40.3719903), np.float64(-3.6950556)), (np.float64(40.3340239), np.float64(-3.7118486)), (np.float64(40.3885963), np.float64(-3.7270384))], [(np.float64(40.3885963), np.float64(-3.7270384)), (np.float64(40.5124455), np.float64(-3.6778586)), (np.float64(40.4343313), np.float64(-3.7045345)), (np.float64(40.4718405), np.float64(-3.7080787)), (np.float64(40.4678501), np.float64(-3.8145949)), (np.float64(40.3885963), np.float64(-3.7270384))], [(np.float64(40.3885963), np.float64(-3.7270384)), (np.float64(40.4090831), np.float64(-3.676125)), (np.float64(40.4117919), np.float64(-3.6593671)), (np.float64(40.4468717), np.float64(-3.5865153)), (np.float64(40.4347103), np.float64(-3.6422656)), (np.float64(40.4265429), np.float64(-3.6080509)), (np.float64(40.3885963), np.float64(-3.7270384))], [(np.float64(40.3885963), np.float64(-3.7270384)), (np.float64(40.3893878), np.float64(-3.7004158)), (np.float64(40.3862643), np.float64(-3.6908621)), (np.float64(40.4028283), np.float64(-3.696878)), (np.float64(40.3885963), np.float64(-3.7270384))], [(np.float64(40.3885963), np.float64(-3.7270384)), (np.float64(40.4558202), np.float64(-3.7003498)), (np.float64(40.4570586), np.float64(-3.7035106)), (np.float64(40.4061912), np.float64(-3.6988754)), (np.float64(40.4046876), np.float64(-3.7062622)), (np.float64(40.4004807), np.float64(-3.712361)), (np.float64(40.3896366), np.float64(-3.7353538)), (np.float64(40.3885963), np.float64(-3.7270384))]], 'costo_mejor_solucion': np.float64(33.517444000000005), 'parametros': {'tamano_tabu': 10, 'max_iteraciones': 100, 'criterio_parada': 'Sin mejora en 20 iteraciones'}, 'historial': [([[20, 9, 16, 20], [20, 18, 7, 1, 13, 20], [20, 3, 2, 8, 17, 19, 20], [20, 5, 10, 12, 20], [20, 11, 6, 15, 0, 14, 4, 20]], np.float64(53.557782)), ([[20, 9, 16, 20], [20, 18, 7, 1, 13, 20], [20, 3, 2, 12, 17, 19, 20], [20, 5, 10, 8, 20], [20, 11, 6, 15, 0, 14, 4, 20]], np.float64(48.182275000000004)), ([[20, 9, 16, 20], [20, 18, 7, 11, 13, 20], [20, 3, 2, 12, 17, 19, 20], [20, 5, 10, 8, 20], [20, 1, 6, 15, 0, 14, 4, 20]], np.float64(43.932145)), ([[20, 9, 16, 20], [20, 18, 7, 11, 14, 20], [20, 3, 2, 12, 17, 19, 20], [20, 5, 10, 8, 20], [20, 1, 6, 15, 0, 13, 4, 20]], np.float64(39.982895)), ([[20, 9, 16, 20], [20, 18, 7, 11, 19, 20], [20, 3, 2, 12, 17, 14, 20], [20, 5, 10, 8, 20], [20, 1, 6, 15, 0, 13, 4, 20]], np.float64(38.565943000000004)), ([[20, 9, 16, 20], [20, 18, 7, 2, 19, 20], [20, 3, 11, 12, 17, 14, 20], [20, 5, 10, 8, 20], [20, 1, 6, 15, 0, 13, 4, 20]], np.float64(37.272205)), ([[20, 3, 16, 20], [20, 18, 7, 2, 19, 20], [20, 9, 11, 12, 17, 14, 20], [20, 5, 10, 8, 20], [20, 1, 6, 15, 0, 13, 4, 20]], np.float64(36.54638500000001)), ([[20, 4, 16, 20], [20, 18, 7, 2, 19, 20], [20, 9, 11, 12, 17, 14, 20], [20, 5, 10, 8, 20], [20, 1, 6, 15, 0, 13, 3, 20]], np.float64(34.978713000000006)), ([[20, 4, 16, 20], [20, 18, 7, 2, 19, 20], [20, 9, 11, 12, 17, 14, 20], [20, 5, 3, 8, 20], [20, 1, 6, 15, 0, 13, 10, 20]], np.float64(34.05986)), ([[20, 4, 16, 20], [20, 18, 12, 2, 19, 20], [20, 9, 11, 7, 17, 14, 20], [20, 5, 3, 8, 20], [20, 1, 6, 15, 0, 13, 10, 20]], np.float64(33.79862800000001)), ([[20, 4, 16, 20], [20, 18, 12, 2, 19, 20], [20, 9, 11, 7, 17, 14, 20], [20, 5, 0, 8, 20], [20, 1, 6, 15, 3, 13, 10, 20]], np.float64(34.220564)), ([[20, 4, 16, 20], [20, 18, 12, 2, 19, 20], [20, 9, 11, 7, 17, 14, 20], [20, 5, 13, 8, 20], [20, 1, 6, 15, 3, 0, 10, 20]], np.float64(34.197715)), ([[20, 4, 16, 20], [20, 18, 12, 2, 19, 20], [20, 9, 11, 7, 17, 14, 20], [20, 10, 13, 8, 20], [20, 1, 6, 15, 3, 0, 5, 20]], np.float64(33.721209)), ([[20, 4, 16, 20], [20, 18, 7, 2, 19, 20], [20, 9, 11, 12, 17, 14, 20], [20, 10, 13, 8, 20], [20, 1, 6, 15, 3, 0, 5, 20]], np.float64(33.982441)), ([[20, 4, 16, 20], [20, 18, 7, 2, 19, 20], [20, 9, 11, 12, 17, 14, 20], [20, 10, 13, 5, 20], [20, 1, 6, 15, 3, 0, 8, 20]], np.float64(34.33165)), ([[20, 4, 16, 20], [20, 18, 7, 2, 19, 20], [20, 9, 11, 12, 17, 14, 20], [20, 10, 13, 0, 20], [20, 1, 6, 15, 3, 5, 8, 20]], np.float64(33.778676000000004)), ([[20, 4, 16, 20], [20, 18, 12, 2, 19, 20], [20, 9, 11, 7, 17, 14, 20], [20, 10, 13, 0, 20], [20, 1, 6, 15, 3, 5, 8, 20]], np.float64(33.517444000000005)), ([[20, 4, 16, 20], [20, 18, 12, 2, 19, 20], [20, 9, 11, 7, 17, 14, 20], [20, 10, 13, 8, 20], [20, 1, 6, 15, 3, 5, 0, 20]], np.float64(33.922265)), ([[20, 4, 16, 20], [20, 18, 7, 2, 19, 20], [20, 9, 11, 12, 17, 14, 20], [20, 10, 13, 8, 20], [20, 1, 6, 15, 3, 5, 0, 20]], np.float64(34.183497)), ([[20, 4, 16, 20], [20, 18, 7, 2, 19, 20], [20, 9, 11, 12, 17, 14, 20], [20, 0, 13, 8, 20], [20, 1, 6, 15, 3, 5, 10, 20]], np.float64(34.574677)), ([[20, 4, 16, 20], [20, 18, 7, 2, 19, 20], [20, 9, 11, 12, 17, 14, 20], [20, 0, 13, 10, 20], [20, 1, 6, 15, 3, 5, 8, 20]], np.float64(33.778676000000004)), ([[20, 4, 16, 20], [20, 18, 12, 2, 19, 20], [20, 9, 11, 7, 17, 14, 20], [20, 0, 13, 10, 20], [20, 1, 6, 15, 3, 5, 8, 20]], np.float64(33.517444000000005)), ([[20, 4, 16, 20], [20, 18, 12, 2, 19, 20], [20, 9, 11, 7, 17, 14, 20], [20, 8, 13, 10, 20], [20, 1, 6, 15, 3, 5, 0, 20]], np.float64(33.922265)), ([[20, 4, 16, 20], [20, 18, 7, 2, 19, 20], [20, 9, 11, 12, 17, 14, 20], [20, 8, 13, 10, 20], [20, 1, 6, 15, 3, 5, 0, 20]], np.float64(34.183497)), ([[20, 4, 16, 20], [20, 18, 7, 2, 19, 20], [20, 9, 11, 12, 17, 14, 20], [20, 8, 13, 0, 20], [20, 1, 6, 15, 3, 5, 10, 20]], np.float64(34.574677)), ([[20, 4, 16, 20], [20, 18, 12, 2, 19, 20], [20, 9, 11, 7, 17, 14, 20], [20, 8, 13, 0, 20], [20, 1, 6, 15, 3, 5, 10, 20]], np.float64(34.313445)), ([[20, 4, 16, 20], [20, 18, 12, 2, 19, 20], [20, 9, 11, 7, 17, 14, 20], [20, 8, 5, 0, 20], [20, 1, 6, 15, 3, 13, 10, 20]], np.float64(34.131055)), ([[20, 4, 16, 20], [20, 18, 12, 2, 19, 20], [20, 9, 11, 7, 17, 14, 20], [20, 8, 5, 3, 20], [20, 1, 6, 15, 0, 13, 10, 20]], np.float64(33.79862800000001)), ([[20, 4, 16, 20], [20, 18, 7, 2, 19, 20], [20, 9, 11, 12, 17, 14, 20], [20, 8, 5, 3, 20], [20, 1, 6, 15, 0, 13, 10, 20]], np.float64(34.05986)), ([[20, 4, 16, 20], [20, 18, 7, 2, 19, 20], [20, 9, 11, 12, 17, 14, 20], [20, 8, 5, 0, 20], [20, 1, 6, 15, 3, 13, 10, 20]], np.float64(34.392287)), ([[20, 4, 16, 20], [20, 18, 7, 2, 19, 20], [20, 9, 11, 12, 17, 14, 20], [20, 8, 5, 13, 20], [20, 1, 6, 15, 3, 0, 10, 20]], np.float64(34.399629000000004)), ([[20, 4, 16, 20], [20, 18, 7, 2, 19, 20], [20, 9, 11, 12, 17, 14, 20], [20, 8, 10, 13, 20], [20, 1, 6, 15, 3, 0, 5, 20]], np.float64(34.000738000000005)), ([[20, 4, 16, 20], [20, 18, 12, 2, 19, 20], [20, 9, 11, 7, 17, 14, 20], [20, 8, 10, 13, 20], [20, 1, 6, 15, 3, 0, 5, 20]], np.float64(33.739506000000006)), ([[20, 4, 16, 20], [20, 18, 12, 2, 19, 20], [20, 9, 11, 7, 17, 14, 20], [20, 8, 5, 13, 20], [20, 1, 6, 15, 3, 0, 10, 20]], np.float64(34.138397000000005)), ([[20, 4, 16, 20], [20, 18, 12, 2, 19, 20], [20, 9, 11, 7, 17, 14, 20], [20, 8, 5, 10, 20], [20, 1, 6, 15, 3, 0, 13, 20]], np.float64(34.229754)), ([[20, 4, 16, 20], [20, 18, 12, 2, 19, 20], [20, 9, 11, 7, 17, 14, 20], [20, 8, 13, 10, 20], [20, 1, 6, 15, 3, 0, 5, 20]], np.float64(33.721209)), ([[20, 4, 16, 20], [20, 18, 7, 2, 19, 20], [20, 9, 11, 12, 17, 14, 20], [20, 8, 13, 10, 20], [20, 1, 6, 15, 3, 0, 5, 20]], np.float64(33.982441))]}\n"
     ]
    }
   ],
   "source": [
    "print(modelo_tabu)"
   ]
  },
  {
   "cell_type": "code",
   "execution_count": 16,
   "metadata": {},
   "outputs": [],
   "source": [
    "with open('modelo_tabu.pkl', 'wb') as archivo:\n",
    "    pickle.dump(modelo_tabu, archivo)"
   ]
  }
 ],
 "metadata": {
  "kernelspec": {
   "display_name": "Python 3",
   "language": "python",
   "name": "python3"
  },
  "language_info": {
   "codemirror_mode": {
    "name": "ipython",
    "version": 3
   },
   "file_extension": ".py",
   "mimetype": "text/x-python",
   "name": "python",
   "nbconvert_exporter": "python",
   "pygments_lexer": "ipython3",
   "version": "3.13.0"
  }
 },
 "nbformat": 4,
 "nbformat_minor": 2
}
